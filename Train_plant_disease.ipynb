{
 "cells": [
  {
   "cell_type": "markdown",
   "id": "5169432f-127b-417f-a4a4-8d3d822b9cf1",
   "metadata": {
    "id": "5169432f-127b-417f-a4a4-8d3d822b9cf1"
   },
   "source": [
    "## Importing Libraries"
   ]
  },
  {
   "cell_type": "code",
   "execution_count": 3,
   "id": "09cb0b13",
   "metadata": {
    "scrolled": true
   },
   "outputs": [
    {
     "name": "stdout",
     "output_type": "stream",
     "text": [
      "[PhysicalDevice(name='/physical_device:GPU:0', device_type='GPU')]\n"
     ]
    }
   ],
   "source": [
    "import tensorflow as tf\n",
    "print(tf.config.list_physical_devices('GPU'))\n"
   ]
  },
  {
   "cell_type": "code",
   "execution_count": 4,
   "id": "32f1ccbd-0961-4d35-96cf-2f43a4e376ce",
   "metadata": {
    "id": "32f1ccbd-0961-4d35-96cf-2f43a4e376ce"
   },
   "outputs": [],
   "source": [
    "import tensorflow as tf\n",
    "import matplotlib.pyplot as plt\n",
    "import pandas as pd\n",
    "import seaborn as sns"
   ]
  },
  {
   "cell_type": "markdown",
   "id": "c605ae8b-6018-41ca-8e5e-8d3ab21cc11c",
   "metadata": {
    "id": "c605ae8b-6018-41ca-8e5e-8d3ab21cc11c"
   },
   "source": [
    "#### Dataset Link: https://www.kaggle.com/datasets/vipoooool/new-plant-diseases-dataset"
   ]
  },
  {
   "cell_type": "markdown",
   "id": "182e3285-206c-4697-a9af-38d32abb347e",
   "metadata": {
    "id": "182e3285-206c-4697-a9af-38d32abb347e"
   },
   "source": [
    "## Data Preprocessing"
   ]
  },
  {
   "cell_type": "markdown",
   "id": "31dad7ac-41b2-47af-875c-68a80e3381f4",
   "metadata": {
    "id": "31dad7ac-41b2-47af-875c-68a80e3381f4"
   },
   "source": [
    "### Training Image Preprocessing"
   ]
  },
  {
   "cell_type": "code",
   "execution_count": 5,
   "id": "b0202d0b-9629-406d-8f9a-8b4d0c991768",
   "metadata": {
    "id": "b0202d0b-9629-406d-8f9a-8b4d0c991768",
    "outputId": "66afa054-abc7-4310-c786-776e46a3a95e"
   },
   "outputs": [
    {
     "name": "stdout",
     "output_type": "stream",
     "text": [
      "Found 70295 files belonging to 38 classes.\n"
     ]
    }
   ],
   "source": [
    "training_set = tf.keras.utils.image_dataset_from_directory(\n",
    "    'train',\n",
    "    labels=\"inferred\",\n",
    "    label_mode=\"categorical\",\n",
    "    class_names=None,\n",
    "    color_mode=\"rgb\",\n",
    "    batch_size=32,\n",
    "    image_size=(128, 128),\n",
    "    shuffle=True,\n",
    "    seed=None,\n",
    "    validation_split=None,\n",
    "    subset=None,\n",
    "    interpolation=\"bilinear\",\n",
    "    follow_links=False,\n",
    "    crop_to_aspect_ratio=False,\n",
    ")"
   ]
  },
  {
   "cell_type": "markdown",
   "id": "4d11bf1c-6f27-4c85-be70-537de67413c5",
   "metadata": {
    "id": "4d11bf1c-6f27-4c85-be70-537de67413c5"
   },
   "source": [
    "### Validation Image Preprocessing"
   ]
  },
  {
   "cell_type": "code",
   "execution_count": 6,
   "id": "1c58a984-0b8f-4736-b503-2c6c1c3b5dab",
   "metadata": {
    "id": "1c58a984-0b8f-4736-b503-2c6c1c3b5dab",
    "outputId": "38b79d93-2373-4832-86e6-4d0ef3ced568"
   },
   "outputs": [
    {
     "name": "stdout",
     "output_type": "stream",
     "text": [
      "Found 17572 files belonging to 38 classes.\n"
     ]
    }
   ],
   "source": [
    "validation_set = tf.keras.utils.image_dataset_from_directory(\n",
    "    'valid',\n",
    "    labels=\"inferred\",\n",
    "    label_mode=\"categorical\",\n",
    "    class_names=None,\n",
    "    color_mode=\"rgb\",\n",
    "    batch_size=32,\n",
    "    image_size=(128, 128),\n",
    "    shuffle=True,\n",
    "    seed=None,\n",
    "    validation_split=None,\n",
    "    subset=None,\n",
    "    interpolation=\"bilinear\",\n",
    "    follow_links=False,\n",
    "    crop_to_aspect_ratio=False,\n",
    ")"
   ]
  },
  {
   "cell_type": "code",
   "execution_count": 7,
   "id": "41b85fb7-a59a-436c-825d-0d48613f0f64",
   "metadata": {
    "id": "41b85fb7-a59a-436c-825d-0d48613f0f64",
    "outputId": "34becd68-a9c7-448a-807f-24a890a5c126"
   },
   "outputs": [
    {
     "data": {
      "text/plain": [
       "<BatchDataset element_spec=(TensorSpec(shape=(None, 128, 128, 3), dtype=tf.float32, name=None), TensorSpec(shape=(None, 38), dtype=tf.float32, name=None))>"
      ]
     },
     "execution_count": 7,
     "metadata": {},
     "output_type": "execute_result"
    }
   ],
   "source": [
    "training_set"
   ]
  },
  {
   "cell_type": "code",
   "execution_count": 8,
   "id": "503db050-446c-4bfe-bf49-6c29c26bd508",
   "metadata": {
    "id": "503db050-446c-4bfe-bf49-6c29c26bd508",
    "outputId": "41327ce9-b407-4bd7-f486-ceb0d1d01420"
   },
   "outputs": [
    {
     "name": "stdout",
     "output_type": "stream",
     "text": [
      "tf.Tensor(\n",
      "[[[[179.75 174.75 180.75]\n",
      "   [184.   179.   185.  ]\n",
      "   [183.   178.   184.  ]\n",
      "   ...\n",
      "   [151.25 146.25 152.25]\n",
      "   [146.   141.   147.  ]\n",
      "   [161.   156.   162.  ]]\n",
      "\n",
      "  [[181.   176.   182.  ]\n",
      "   [182.5  177.5  183.5 ]\n",
      "   [181.   176.   182.  ]\n",
      "   ...\n",
      "   [166.   161.   167.  ]\n",
      "   [166.75 161.75 167.75]\n",
      "   [159.   154.   160.  ]]\n",
      "\n",
      "  [[182.75 177.75 183.75]\n",
      "   [185.5  180.5  186.5 ]\n",
      "   [182.75 177.75 183.75]\n",
      "   ...\n",
      "   [162.5  157.5  163.5 ]\n",
      "   [155.75 150.75 156.75]\n",
      "   [149.   144.   150.  ]]\n",
      "\n",
      "  ...\n",
      "\n",
      "  [[134.   132.   137.  ]\n",
      "   [136.   134.   139.  ]\n",
      "   [134.5  132.5  137.5 ]\n",
      "   ...\n",
      "   [ 51.5   39.5   53.5 ]\n",
      "   [ 57.    43.25  55.25]\n",
      "   [ 46.5   35.5   43.75]]\n",
      "\n",
      "  [[132.5  130.5  135.5 ]\n",
      "   [132.75 130.75 135.75]\n",
      "   [134.   132.   137.  ]\n",
      "   ...\n",
      "   [ 62.5   45.    52.  ]\n",
      "   [ 61.5   48.5   54.  ]\n",
      "   [ 59.75  53.25  56.  ]]\n",
      "\n",
      "  [[136.   134.   139.  ]\n",
      "   [134.5  132.5  137.5 ]\n",
      "   [137.75 135.75 140.75]\n",
      "   ...\n",
      "   [ 93.    75.75  76.5 ]\n",
      "   [ 74.    66.5   64.  ]\n",
      "   [ 62.75  64.5   59.  ]]]\n",
      "\n",
      "\n",
      " [[[109.    98.   115.  ]\n",
      "   [113.75 102.75 119.75]\n",
      "   [106.25  95.25 112.25]\n",
      "   ...\n",
      "   [120.5  107.5  125.5 ]\n",
      "   [113.   100.   118.  ]\n",
      "   [111.5   98.5  116.5 ]]\n",
      "\n",
      "  [[129.25 118.25 135.25]\n",
      "   [125.5  114.5  131.5 ]\n",
      "   [120.5  109.5  126.5 ]\n",
      "   ...\n",
      "   [119.75 106.75 124.75]\n",
      "   [106.25  93.25 111.25]\n",
      "   [109.25  96.25 114.25]]\n",
      "\n",
      "  [[123.25 112.25 129.25]\n",
      "   [109.5   98.5  115.5 ]\n",
      "   [137.   126.   143.  ]\n",
      "   ...\n",
      "   [118.5  105.5  123.5 ]\n",
      "   [114.75 101.75 119.75]\n",
      "   [114.75 101.75 119.75]]\n",
      "\n",
      "  ...\n",
      "\n",
      "  [[179.   175.   192.  ]\n",
      "   [178.75 174.75 191.75]\n",
      "   [187.25 183.25 200.25]\n",
      "   ...\n",
      "   [154.25 146.25 170.25]\n",
      "   [154.75 146.75 170.75]\n",
      "   [153.   145.   169.  ]]\n",
      "\n",
      "  [[188.5  184.5  199.5 ]\n",
      "   [191.25 187.25 202.25]\n",
      "   [183.75 179.75 194.75]\n",
      "   ...\n",
      "   [155.5  147.5  171.5 ]\n",
      "   [155.   147.   171.  ]\n",
      "   [154.5  146.5  170.5 ]]\n",
      "\n",
      "  [[189.25 185.25 200.25]\n",
      "   [186.25 182.25 197.25]\n",
      "   [193.   189.   204.  ]\n",
      "   ...\n",
      "   [155.5  147.5  171.5 ]\n",
      "   [152.75 144.75 168.75]\n",
      "   [151.75 143.75 167.75]]]\n",
      "\n",
      "\n",
      " [[[ 82.75  79.75  98.75]\n",
      "   [ 85.    82.   101.  ]\n",
      "   [ 87.75  84.75 103.75]\n",
      "   ...\n",
      "   [165.   166.   187.  ]\n",
      "   [164.   165.   186.  ]\n",
      "   [163.75 164.75 185.75]]\n",
      "\n",
      "  [[ 82.5   79.5   98.5 ]\n",
      "   [ 88.25  85.25 104.25]\n",
      "   [ 90.25  87.25 106.25]\n",
      "   ...\n",
      "   [165.75 166.75 187.75]\n",
      "   [164.75 165.75 186.75]\n",
      "   [164.   165.   186.  ]]\n",
      "\n",
      "  [[ 86.25  83.25 102.25]\n",
      "   [ 91.25  88.25 107.25]\n",
      "   [ 92.    89.   108.  ]\n",
      "   ...\n",
      "   [166.25 167.25 188.25]\n",
      "   [165.75 166.75 187.75]\n",
      "   [165.   166.   187.  ]]\n",
      "\n",
      "  ...\n",
      "\n",
      "  [[ 63.25  80.75  36.5 ]\n",
      "   [ 60.    79.25  34.25]\n",
      "   [ 55.5   77.    31.25]\n",
      "   ...\n",
      "   [121.25 134.   122.25]\n",
      "   [111.   131.75 119.  ]\n",
      "   [ 91.5  135.   112.5 ]]\n",
      "\n",
      "  [[ 61.5   82.25  39.25]\n",
      "   [ 63.    84.5   41.25]\n",
      "   [ 60.25  83.5   39.5 ]\n",
      "   ...\n",
      "   [117.   135.25 122.25]\n",
      "   [125.   144.25 131.5 ]\n",
      "   [ 97.   135.75 113.5 ]]\n",
      "\n",
      "  [[ 58.25  83.5   38.75]\n",
      "   [ 54.    79.25  34.5 ]\n",
      "   [ 56.25  82.25  37.25]\n",
      "   ...\n",
      "   [115.75 137.75 125.25]\n",
      "   [110.   128.5  115.5 ]\n",
      "   [ 96.5  129.75 109.5 ]]]\n",
      "\n",
      "\n",
      " ...\n",
      "\n",
      "\n",
      " [[[  0.     0.     0.  ]\n",
      "   [  0.     0.     0.  ]\n",
      "   [  0.     0.     0.  ]\n",
      "   ...\n",
      "   [  0.     0.     0.  ]\n",
      "   [  0.     0.     0.  ]\n",
      "   [  0.     0.     0.  ]]\n",
      "\n",
      "  [[  0.     0.     0.  ]\n",
      "   [  0.     0.     0.  ]\n",
      "   [  0.     0.     0.  ]\n",
      "   ...\n",
      "   [  0.     0.     0.  ]\n",
      "   [  0.     0.     0.  ]\n",
      "   [  0.     0.     0.  ]]\n",
      "\n",
      "  [[  0.     0.     0.  ]\n",
      "   [  0.     0.     0.  ]\n",
      "   [  0.     0.     0.  ]\n",
      "   ...\n",
      "   [  0.     0.     0.  ]\n",
      "   [  0.     0.     0.  ]\n",
      "   [  0.     0.     0.  ]]\n",
      "\n",
      "  ...\n",
      "\n",
      "  [[  0.     0.     0.  ]\n",
      "   [  0.     0.     0.  ]\n",
      "   [  0.     0.     0.  ]\n",
      "   ...\n",
      "   [  0.     0.     0.  ]\n",
      "   [  0.     0.     0.  ]\n",
      "   [  0.     0.     0.  ]]\n",
      "\n",
      "  [[  0.     0.     0.  ]\n",
      "   [  0.     0.     0.  ]\n",
      "   [  0.     0.     0.  ]\n",
      "   ...\n",
      "   [  0.     0.     0.  ]\n",
      "   [  0.     0.     0.  ]\n",
      "   [  0.     0.     0.  ]]\n",
      "\n",
      "  [[  0.     0.     0.  ]\n",
      "   [  0.     0.     0.  ]\n",
      "   [  0.     0.     0.  ]\n",
      "   ...\n",
      "   [  0.     0.     0.  ]\n",
      "   [  0.     0.     0.  ]\n",
      "   [  0.     0.     0.  ]]]\n",
      "\n",
      "\n",
      " [[[116.75 102.75 102.75]\n",
      "   [134.5  120.5  120.5 ]\n",
      "   [127.   113.   113.  ]\n",
      "   ...\n",
      "   [142.   128.   128.  ]\n",
      "   [145.75 131.75 131.75]\n",
      "   [160.25 146.25 146.25]]\n",
      "\n",
      "  [[132.   118.   118.  ]\n",
      "   [130.75 116.75 116.75]\n",
      "   [130.75 116.75 116.75]\n",
      "   ...\n",
      "   [163.   149.   149.  ]\n",
      "   [162.5  148.5  148.5 ]\n",
      "   [165.25 151.25 151.25]]\n",
      "\n",
      "  [[131.25 117.25 117.25]\n",
      "   [134.75 120.75 120.75]\n",
      "   [124.25 110.25 110.25]\n",
      "   ...\n",
      "   [159.75 145.75 145.75]\n",
      "   [172.   158.   158.  ]\n",
      "   [161.   147.   147.  ]]\n",
      "\n",
      "  ...\n",
      "\n",
      "  [[145.75 130.75 135.75]\n",
      "   [124.5  109.5  114.5 ]\n",
      "   [130.   115.   120.  ]\n",
      "   ...\n",
      "   [156.   143.   150.  ]\n",
      "   [148.5  135.5  142.5 ]\n",
      "   [164.   151.   158.  ]]\n",
      "\n",
      "  [[122.25 107.25 112.25]\n",
      "   [121.   106.   111.  ]\n",
      "   [132.5  117.5  122.5 ]\n",
      "   ...\n",
      "   [143.25 130.25 137.25]\n",
      "   [152.75 139.75 146.75]\n",
      "   [161.75 148.75 155.75]]\n",
      "\n",
      "  [[138.25 123.25 128.25]\n",
      "   [137.   122.   127.  ]\n",
      "   [139.5  124.5  129.5 ]\n",
      "   ...\n",
      "   [153.   140.   147.  ]\n",
      "   [155.   142.   149.  ]\n",
      "   [168.75 155.75 162.75]]]\n",
      "\n",
      "\n",
      " [[[159.   153.   157.  ]\n",
      "   [163.75 157.75 161.75]\n",
      "   [149.   143.   147.  ]\n",
      "   ...\n",
      "   [142.75 131.75 135.75]\n",
      "   [129.75 118.75 122.75]\n",
      "   [135.5  124.5  128.5 ]]\n",
      "\n",
      "  [[154.   148.   152.  ]\n",
      "   [150.   144.   148.  ]\n",
      "   [146.   140.   144.  ]\n",
      "   ...\n",
      "   [141.5  130.5  134.5 ]\n",
      "   [125.   114.   118.  ]\n",
      "   [130.   119.   123.  ]]\n",
      "\n",
      "  [[164.   158.   162.  ]\n",
      "   [162.5  156.5  160.5 ]\n",
      "   [157.   151.   155.  ]\n",
      "   ...\n",
      "   [147.   136.   140.  ]\n",
      "   [135.5  124.5  128.5 ]\n",
      "   [140.25 129.25 133.25]]\n",
      "\n",
      "  ...\n",
      "\n",
      "  [[171.5  165.5  169.5 ]\n",
      "   [176.5  170.5  174.5 ]\n",
      "   [177.25 171.25 175.25]\n",
      "   ...\n",
      "   [161.5  155.5  157.5 ]\n",
      "   [160.25 154.25 156.25]\n",
      "   [158.   152.   154.  ]]\n",
      "\n",
      "  [[177.25 171.25 175.25]\n",
      "   [179.5  173.5  177.5 ]\n",
      "   [174.   168.   172.  ]\n",
      "   ...\n",
      "   [163.5  157.5  159.5 ]\n",
      "   [162.   156.   158.  ]\n",
      "   [156.25 150.25 152.25]]\n",
      "\n",
      "  [[182.   176.   180.  ]\n",
      "   [179.5  173.5  177.5 ]\n",
      "   [183.75 177.75 181.75]\n",
      "   ...\n",
      "   [162.25 156.25 158.25]\n",
      "   [159.   153.   155.  ]\n",
      "   [152.75 146.75 148.75]]]], shape=(32, 128, 128, 3), dtype=float32) (32, 128, 128, 3)\n",
      "tf.Tensor(\n",
      "[[0. 0. 0. ... 0. 0. 0.]\n",
      " [0. 0. 0. ... 0. 0. 0.]\n",
      " [0. 0. 0. ... 0. 0. 0.]\n",
      " ...\n",
      " [1. 0. 0. ... 0. 0. 0.]\n",
      " [0. 0. 0. ... 1. 0. 0.]\n",
      " [0. 0. 0. ... 0. 0. 0.]], shape=(32, 38), dtype=float32) (32, 38)\n"
     ]
    }
   ],
   "source": [
    "for x,y in training_set:\n",
    "    print(x,x.shape)\n",
    "    print(y,y.shape)\n",
    "    break"
   ]
  },
  {
   "cell_type": "markdown",
   "id": "4ec4bafa-fa6e-49a3-8f9b-2f37e95c7944",
   "metadata": {
    "id": "4ec4bafa-fa6e-49a3-8f9b-2f37e95c7944"
   },
   "source": [
    "## Building Model"
   ]
  },
  {
   "cell_type": "code",
   "execution_count": 9,
   "id": "724e2f9c-706c-4b74-afc5-7f42ba389721",
   "metadata": {
    "id": "724e2f9c-706c-4b74-afc5-7f42ba389721"
   },
   "outputs": [],
   "source": [
    "from tensorflow.keras.layers import Dense,Conv2D,MaxPool2D,Flatten,Dropout\n",
    "from tensorflow.keras.models import Sequential"
   ]
  },
  {
   "cell_type": "code",
   "execution_count": 10,
   "id": "2bfdd8e8-7173-4e5a-b5ab-a5bea9b282cf",
   "metadata": {
    "id": "2bfdd8e8-7173-4e5a-b5ab-a5bea9b282cf"
   },
   "outputs": [],
   "source": [
    "model = Sequential()"
   ]
  },
  {
   "cell_type": "code",
   "execution_count": 11,
   "id": "47e35607-bd2f-4b4d-ae68-2b287356002e",
   "metadata": {
    "id": "47e35607-bd2f-4b4d-ae68-2b287356002e"
   },
   "outputs": [],
   "source": [
    "model.add(Conv2D(filters=32,kernel_size=3,padding='same',activation='relu',input_shape=[128,128,3]))\n",
    "model.add(Conv2D(filters=32,kernel_size=3,activation='relu'))\n",
    "model.add(MaxPool2D(pool_size=2,strides=2))"
   ]
  },
  {
   "cell_type": "code",
   "execution_count": 12,
   "id": "afa800a1-f1fe-449d-892a-8b25fccb59b7",
   "metadata": {
    "id": "afa800a1-f1fe-449d-892a-8b25fccb59b7"
   },
   "outputs": [],
   "source": [
    "model.add(Conv2D(filters=64,kernel_size=3,padding='same',activation='relu'))\n",
    "model.add(Conv2D(filters=64,kernel_size=3,activation='relu'))\n",
    "model.add(MaxPool2D(pool_size=2,strides=2))"
   ]
  },
  {
   "cell_type": "code",
   "execution_count": 13,
   "id": "efb5538e-2964-4ea6-88a8-08d403af22e3",
   "metadata": {
    "id": "efb5538e-2964-4ea6-88a8-08d403af22e3"
   },
   "outputs": [],
   "source": [
    "model.add(Conv2D(filters=128,kernel_size=3,padding='same',activation='relu'))\n",
    "model.add(Conv2D(filters=128,kernel_size=3,activation='relu'))\n",
    "model.add(MaxPool2D(pool_size=2,strides=2))"
   ]
  },
  {
   "cell_type": "code",
   "execution_count": 14,
   "id": "726385ea-e57e-427f-b8a3-db45ee61b3ad",
   "metadata": {
    "id": "726385ea-e57e-427f-b8a3-db45ee61b3ad"
   },
   "outputs": [],
   "source": [
    "model.add(Conv2D(filters=256,kernel_size=3,padding='same',activation='relu'))\n",
    "model.add(Conv2D(filters=256,kernel_size=3,activation='relu'))\n",
    "model.add(MaxPool2D(pool_size=2,strides=2))"
   ]
  },
  {
   "cell_type": "code",
   "execution_count": 15,
   "id": "0ae06166-00e6-4328-9b3d-c7a57cc6fcb6",
   "metadata": {
    "id": "0ae06166-00e6-4328-9b3d-c7a57cc6fcb6"
   },
   "outputs": [],
   "source": [
    "model.add(Conv2D(filters=512,kernel_size=3,padding='same',activation='relu'))\n",
    "model.add(Conv2D(filters=512,kernel_size=3,activation='relu'))\n",
    "model.add(MaxPool2D(pool_size=2,strides=2))"
   ]
  },
  {
   "cell_type": "code",
   "execution_count": 16,
   "id": "b940e6d3-515e-42aa-a733-73f19bff8f79",
   "metadata": {
    "id": "b940e6d3-515e-42aa-a733-73f19bff8f79"
   },
   "outputs": [],
   "source": [
    "model.add(Dropout(0.25)) # To avoid Overfitting"
   ]
  },
  {
   "cell_type": "code",
   "execution_count": 17,
   "id": "34d41c56-810b-4bb6-94cc-ced4fb25ec1b",
   "metadata": {
    "id": "34d41c56-810b-4bb6-94cc-ced4fb25ec1b"
   },
   "outputs": [],
   "source": [
    "model.add(Flatten())"
   ]
  },
  {
   "cell_type": "code",
   "execution_count": 18,
   "id": "97d54b69-adae-4909-888a-5a1b88e8bba3",
   "metadata": {
    "id": "97d54b69-adae-4909-888a-5a1b88e8bba3"
   },
   "outputs": [],
   "source": [
    "model.add(Dense(units=1500,activation='relu'))"
   ]
  },
  {
   "cell_type": "code",
   "execution_count": 19,
   "id": "8d3c9868-c241-4fdc-8089-cbd480730cf9",
   "metadata": {
    "id": "8d3c9868-c241-4fdc-8089-cbd480730cf9"
   },
   "outputs": [],
   "source": [
    "model.add(Dropout(0.4))"
   ]
  },
  {
   "cell_type": "code",
   "execution_count": 20,
   "id": "067e78a8-f43e-4b50-91b4-03fb75abdb76",
   "metadata": {
    "id": "067e78a8-f43e-4b50-91b4-03fb75abdb76"
   },
   "outputs": [],
   "source": [
    "#Output Layer\n",
    "model.add(Dense(units=38,activation='softmax'))"
   ]
  },
  {
   "cell_type": "markdown",
   "id": "bc90f6be-aaee-454c-81dd-0417b5d51b7c",
   "metadata": {
    "id": "bc90f6be-aaee-454c-81dd-0417b5d51b7c"
   },
   "source": [
    "Compiling Model"
   ]
  },
  {
   "cell_type": "code",
   "execution_count": 21,
   "id": "9efe382e-c8ed-4177-8904-2bd26f4ec2b1",
   "metadata": {
    "id": "9efe382e-c8ed-4177-8904-2bd26f4ec2b1"
   },
   "outputs": [],
   "source": [
    "model.compile(optimizer=tf.keras.optimizers.legacy.Adam(\n",
    "    learning_rate=0.0001),loss='categorical_crossentropy',metrics=['accuracy'])"
   ]
  },
  {
   "cell_type": "code",
   "execution_count": 22,
   "id": "a6000e40-1670-4b02-aa51-cbecc017c0db",
   "metadata": {
    "id": "a6000e40-1670-4b02-aa51-cbecc017c0db",
    "outputId": "7f41760c-c074-43f8-a886-b91e5812384a",
    "scrolled": true
   },
   "outputs": [
    {
     "name": "stdout",
     "output_type": "stream",
     "text": [
      "Model: \"sequential\"\n",
      "_________________________________________________________________\n",
      " Layer (type)                Output Shape              Param #   \n",
      "=================================================================\n",
      " conv2d (Conv2D)             (None, 128, 128, 32)      896       \n",
      "                                                                 \n",
      " conv2d_1 (Conv2D)           (None, 126, 126, 32)      9248      \n",
      "                                                                 \n",
      " max_pooling2d (MaxPooling2D  (None, 63, 63, 32)       0         \n",
      " )                                                               \n",
      "                                                                 \n",
      " conv2d_2 (Conv2D)           (None, 63, 63, 64)        18496     \n",
      "                                                                 \n",
      " conv2d_3 (Conv2D)           (None, 61, 61, 64)        36928     \n",
      "                                                                 \n",
      " max_pooling2d_1 (MaxPooling  (None, 30, 30, 64)       0         \n",
      " 2D)                                                             \n",
      "                                                                 \n",
      " conv2d_4 (Conv2D)           (None, 30, 30, 128)       73856     \n",
      "                                                                 \n",
      " conv2d_5 (Conv2D)           (None, 28, 28, 128)       147584    \n",
      "                                                                 \n",
      " max_pooling2d_2 (MaxPooling  (None, 14, 14, 128)      0         \n",
      " 2D)                                                             \n",
      "                                                                 \n",
      " conv2d_6 (Conv2D)           (None, 14, 14, 256)       295168    \n",
      "                                                                 \n",
      " conv2d_7 (Conv2D)           (None, 12, 12, 256)       590080    \n",
      "                                                                 \n",
      " max_pooling2d_3 (MaxPooling  (None, 6, 6, 256)        0         \n",
      " 2D)                                                             \n",
      "                                                                 \n",
      " conv2d_8 (Conv2D)           (None, 6, 6, 512)         1180160   \n",
      "                                                                 \n",
      " conv2d_9 (Conv2D)           (None, 4, 4, 512)         2359808   \n",
      "                                                                 \n",
      " max_pooling2d_4 (MaxPooling  (None, 2, 2, 512)        0         \n",
      " 2D)                                                             \n",
      "                                                                 \n",
      " dropout (Dropout)           (None, 2, 2, 512)         0         \n",
      "                                                                 \n",
      " flatten (Flatten)           (None, 2048)              0         \n",
      "                                                                 \n",
      " dense (Dense)               (None, 1500)              3073500   \n",
      "                                                                 \n",
      " dropout_1 (Dropout)         (None, 1500)              0         \n",
      "                                                                 \n",
      " dense_1 (Dense)             (None, 38)                57038     \n",
      "                                                                 \n",
      "=================================================================\n",
      "Total params: 7,842,762\n",
      "Trainable params: 7,842,762\n",
      "Non-trainable params: 0\n",
      "_________________________________________________________________\n"
     ]
    }
   ],
   "source": [
    "model.summary()"
   ]
  },
  {
   "cell_type": "markdown",
   "id": "33649985-a16d-43f2-8e4b-75bf338d240d",
   "metadata": {
    "id": "33649985-a16d-43f2-8e4b-75bf338d240d"
   },
   "source": [
    " Model Training"
   ]
  },
  {
   "cell_type": "code",
   "execution_count": null,
   "id": "7ecbf646-94ba-4e2d-8eaa-5c2ab6e025c7",
   "metadata": {
    "id": "7ecbf646-94ba-4e2d-8eaa-5c2ab6e025c7",
    "outputId": "cd4160a4-7f34-49d1-e476-daae6b8f394f"
   },
   "outputs": [
    {
     "name": "stdout",
     "output_type": "stream",
     "text": [
      "Epoch 1/10\n"
     ]
    }
   ],
   "source": [
    "training_history = model.fit(x=training_set,validation_data=validation_set,epochs=10)"
   ]
  },
  {
   "cell_type": "markdown",
   "id": "9387002d-adc6-4348-b0ff-235a55474859",
   "metadata": {
    "id": "9387002d-adc6-4348-b0ff-235a55474859"
   },
   "source": [
    "## Model Evaluation"
   ]
  },
  {
   "cell_type": "code",
   "execution_count": null,
   "id": "3c064d3b-8d5b-4af1-9707-914864efdc97",
   "metadata": {
    "id": "3c064d3b-8d5b-4af1-9707-914864efdc97",
    "outputId": "12572c5d-1db3-4f8c-a6d8-d3cc85281a21"
   },
   "outputs": [],
   "source": [
    "#Model Evaluation on Training set\n",
    "train_loss,train_acc = model.evaluate(training_set)"
   ]
  },
  {
   "cell_type": "code",
   "execution_count": null,
   "id": "c83490d8-06e8-4718-837e-3fd7025f3b97",
   "metadata": {
    "id": "c83490d8-06e8-4718-837e-3fd7025f3b97",
    "outputId": "6d6737f4-5750-44a6-b0f7-3d10ee56e710"
   },
   "outputs": [],
   "source": [
    "print(train_loss,train_acc)"
   ]
  },
  {
   "cell_type": "code",
   "execution_count": null,
   "id": "d5abfb8d-8413-4462-b285-947094c84bd5",
   "metadata": {
    "id": "d5abfb8d-8413-4462-b285-947094c84bd5",
    "outputId": "be4a4e5f-5b52-408d-83d5-526f209f5f1e"
   },
   "outputs": [],
   "source": [
    "#Model on Validation set\n",
    "val_loss,val_acc = model.evaluate(validation_set)"
   ]
  },
  {
   "cell_type": "code",
   "execution_count": null,
   "id": "e6890987-3f58-477c-85a1-e627087ebada",
   "metadata": {
    "id": "e6890987-3f58-477c-85a1-e627087ebada",
    "outputId": "d8354ab4-083f-4f6a-82af-6495b18a70a7"
   },
   "outputs": [],
   "source": [
    "print(val_loss,val_acc)"
   ]
  },
  {
   "cell_type": "code",
   "execution_count": null,
   "id": "ea0dea8c-74b9-491f-be5e-f9920c70f567",
   "metadata": {
    "id": "ea0dea8c-74b9-491f-be5e-f9920c70f567"
   },
   "outputs": [],
   "source": []
  },
  {
   "cell_type": "markdown",
   "id": "2c01b1e6-6e00-435f-896b-b5c6adec8d25",
   "metadata": {
    "id": "2c01b1e6-6e00-435f-896b-b5c6adec8d25"
   },
   "source": [
    "### Saving Model"
   ]
  },
  {
   "cell_type": "code",
   "execution_count": null,
   "id": "562ee740-cd78-4a31-b7a9-7d111e43dfa0",
   "metadata": {
    "id": "562ee740-cd78-4a31-b7a9-7d111e43dfa0"
   },
   "outputs": [],
   "source": [
    "model.save(\"trained_model.keras\")"
   ]
  },
  {
   "cell_type": "code",
   "execution_count": null,
   "id": "c4460f7c-8d30-4a23-91c6-ed32d83d7476",
   "metadata": {
    "id": "c4460f7c-8d30-4a23-91c6-ed32d83d7476",
    "outputId": "e2b4a7c8-6a01-4a89-9c39-556077c1ff99"
   },
   "outputs": [],
   "source": [
    "training_history.history"
   ]
  },
  {
   "cell_type": "code",
   "execution_count": null,
   "id": "7a45982e-39ea-4d09-a1e9-e4b28ab2fe9e",
   "metadata": {
    "id": "7a45982e-39ea-4d09-a1e9-e4b28ab2fe9e"
   },
   "outputs": [],
   "source": [
    "#Recording History in json\n",
    "import json\n",
    "with open(\"training_hist.json\",\"w\") as f:\n",
    "    json.dump(training_history.history,f)"
   ]
  },
  {
   "cell_type": "code",
   "execution_count": null,
   "id": "ed71ff97-d41c-4c0c-9518-338cffdc43fe",
   "metadata": {
    "id": "ed71ff97-d41c-4c0c-9518-338cffdc43fe"
   },
   "outputs": [],
   "source": []
  },
  {
   "cell_type": "code",
   "execution_count": null,
   "id": "59dd0224-f127-43a5-b563-a01e4cb5028b",
   "metadata": {
    "id": "59dd0224-f127-43a5-b563-a01e4cb5028b",
    "outputId": "aad21e62-c63e-473e-c1c8-6b903e31bee1"
   },
   "outputs": [],
   "source": [
    "training_history.history['val_accuracy']"
   ]
  },
  {
   "cell_type": "markdown",
   "id": "532b9be8-1b16-4802-bbfe-0cacf297abf8",
   "metadata": {
    "id": "532b9be8-1b16-4802-bbfe-0cacf297abf8"
   },
   "source": [
    "### Accuracy Visualization"
   ]
  },
  {
   "cell_type": "code",
   "execution_count": null,
   "id": "206bce3d-76b7-41a2-96be-f8899c733a46",
   "metadata": {
    "id": "206bce3d-76b7-41a2-96be-f8899c733a46",
    "outputId": "4eaa810c-700d-41e5-e1d6-a5cb81bd6657"
   },
   "outputs": [],
   "source": [
    "epochs = [i for i in range(1,11)]\n",
    "plt.plot(epochs,training_history.history['accuracy'],color='red',label='Training Accuracy')\n",
    "plt.plot(epochs,training_history.history['val_accuracy'],color='blue',label='Validation Accuracy')\n",
    "plt.xlabel(\"No. of Epochs\")\n",
    "plt.ylabel(\"Accuracy Result\")\n",
    "plt.title(\"Visualization of Accuracy Result\")\n",
    "plt.legend()\n",
    "plt.show()"
   ]
  },
  {
   "cell_type": "code",
   "execution_count": null,
   "id": "26a11e0f-3f90-4e90-8028-58f04a45280d",
   "metadata": {
    "id": "26a11e0f-3f90-4e90-8028-58f04a45280d"
   },
   "outputs": [],
   "source": []
  },
  {
   "cell_type": "markdown",
   "id": "5b20c108-1114-4121-8252-5a147f7595ee",
   "metadata": {
    "id": "5b20c108-1114-4121-8252-5a147f7595ee"
   },
   "source": [
    "### Some other metrics for model evaluation"
   ]
  },
  {
   "cell_type": "code",
   "execution_count": null,
   "id": "9d7478a9-cadb-4431-bdcd-91611312a043",
   "metadata": {
    "id": "9d7478a9-cadb-4431-bdcd-91611312a043",
    "outputId": "3fedeea8-7b8c-4e38-bef8-37b4902c9af4"
   },
   "outputs": [],
   "source": [
    "class_name = validation_set.class_names\n",
    "class_name"
   ]
  },
  {
   "cell_type": "code",
   "execution_count": null,
   "id": "ab39b21f-fef5-4c2d-8ddd-e24e22d3ff47",
   "metadata": {
    "id": "ab39b21f-fef5-4c2d-8ddd-e24e22d3ff47"
   },
   "outputs": [],
   "source": []
  },
  {
   "cell_type": "code",
   "execution_count": null,
   "id": "aa494546-bf8a-4bf7-8171-6e29f2f2a6e7",
   "metadata": {
    "id": "aa494546-bf8a-4bf7-8171-6e29f2f2a6e7",
    "outputId": "998545e5-21f6-49f9-bfef-7a8827027b96"
   },
   "outputs": [],
   "source": [
    "test_set = tf.keras.utils.image_dataset_from_directory(\n",
    "    'valid',\n",
    "    labels=\"inferred\",\n",
    "    label_mode=\"categorical\",\n",
    "    class_names=None,\n",
    "    color_mode=\"rgb\",\n",
    "    batch_size=32,\n",
    "    image_size=(128, 128),\n",
    "    shuffle=False,\n",
    "    seed=None,\n",
    "    validation_split=None,\n",
    "    subset=None,\n",
    "    interpolation=\"bilinear\",\n",
    "    follow_links=False,\n",
    "    crop_to_aspect_ratio=False,\n",
    ")"
   ]
  },
  {
   "cell_type": "code",
   "execution_count": null,
   "id": "dfd2b9e3-ab67-4484-96df-c4d289da5666",
   "metadata": {
    "id": "dfd2b9e3-ab67-4484-96df-c4d289da5666",
    "outputId": "70d7e83b-40e2-4694-ccc2-97da7141a68c"
   },
   "outputs": [],
   "source": [
    "y_pred = model.predict(test_set)\n",
    "y_pred,y_pred.shape"
   ]
  },
  {
   "cell_type": "code",
   "execution_count": null,
   "id": "06e988a1-6aa7-47d8-9d1e-186e5e551fa0",
   "metadata": {
    "id": "06e988a1-6aa7-47d8-9d1e-186e5e551fa0"
   },
   "outputs": [],
   "source": [
    "predicted_categories = tf.argmax(y_pred,axis=1)"
   ]
  },
  {
   "cell_type": "code",
   "execution_count": null,
   "id": "f62af646-f696-4402-a7e3-579e41218ee2",
   "metadata": {
    "id": "f62af646-f696-4402-a7e3-579e41218ee2",
    "outputId": "062f5855-88ec-44e8-f69a-40adf53647b0"
   },
   "outputs": [],
   "source": [
    "predicted_categories"
   ]
  },
  {
   "cell_type": "code",
   "execution_count": null,
   "id": "fcb5a7ff-c83f-43eb-810b-2e37573c8a58",
   "metadata": {
    "id": "fcb5a7ff-c83f-43eb-810b-2e37573c8a58",
    "outputId": "94aa184a-9b49-4426-b316-6b556fd19da6"
   },
   "outputs": [],
   "source": [
    "true_categories = tf.concat([y for x,y in test_set],axis=0)\n",
    "true_categories"
   ]
  },
  {
   "cell_type": "code",
   "execution_count": null,
   "id": "57a09657-42c7-4031-acae-bc1849860c5e",
   "metadata": {
    "id": "57a09657-42c7-4031-acae-bc1849860c5e",
    "outputId": "bfbbac6f-d8ca-4934-e3ac-dbeb589558dd"
   },
   "outputs": [],
   "source": [
    "Y_true = tf.argmax(true_categories,axis=1)\n",
    "Y_true"
   ]
  },
  {
   "cell_type": "code",
   "execution_count": null,
   "id": "1ce00a1b-cb80-4514-ad92-9b028eefb303",
   "metadata": {
    "id": "1ce00a1b-cb80-4514-ad92-9b028eefb303"
   },
   "outputs": [],
   "source": []
  },
  {
   "cell_type": "markdown",
   "id": "5f05025b-2d5d-4a4e-b61a-0f7945f9dd76",
   "metadata": {
    "id": "5f05025b-2d5d-4a4e-b61a-0f7945f9dd76"
   },
   "source": [
    "![image.png](attachment:f464cbcc-5d6b-4f32-835c-9aabe0f9c5d4.png)"
   ]
  },
  {
   "cell_type": "code",
   "execution_count": null,
   "id": "1ab8928d-4b3b-4972-b2cf-6a1f3f94754b",
   "metadata": {
    "id": "1ab8928d-4b3b-4972-b2cf-6a1f3f94754b"
   },
   "outputs": [],
   "source": []
  },
  {
   "cell_type": "code",
   "execution_count": null,
   "id": "536ad547-09e9-4237-8afb-9833dcc21ae6",
   "metadata": {
    "id": "536ad547-09e9-4237-8afb-9833dcc21ae6"
   },
   "outputs": [],
   "source": [
    "from sklearn.metrics import classification_report,confusion_matrix"
   ]
  },
  {
   "cell_type": "code",
   "execution_count": null,
   "id": "6dd8af3c-f60b-4978-9ce3-d4278fcf3cd7",
   "metadata": {
    "id": "6dd8af3c-f60b-4978-9ce3-d4278fcf3cd7",
    "outputId": "809fa9a1-019c-4b24-f97f-de25b2a799a7"
   },
   "outputs": [],
   "source": [
    "print(classification_report(Y_true,predicted_categories,target_names=class_name))"
   ]
  },
  {
   "cell_type": "code",
   "execution_count": null,
   "id": "a0734fb8-65f9-4c21-a094-2e2eaefbfd42",
   "metadata": {
    "id": "a0734fb8-65f9-4c21-a094-2e2eaefbfd42",
    "outputId": "b52ae5a4-4a97-411d-845c-2a961b6b5649"
   },
   "outputs": [],
   "source": [
    "cm = confusion_matrix(Y_true,predicted_categories)\n",
    "cm"
   ]
  },
  {
   "cell_type": "code",
   "execution_count": null,
   "id": "113f714f-2150-4de2-8818-5e8bd7ea2ef9",
   "metadata": {
    "id": "113f714f-2150-4de2-8818-5e8bd7ea2ef9"
   },
   "outputs": [],
   "source": []
  },
  {
   "cell_type": "markdown",
   "id": "6f233316-7109-4d06-a7c1-4879fe92f940",
   "metadata": {
    "id": "6f233316-7109-4d06-a7c1-4879fe92f940"
   },
   "source": [
    "### Confusion Matrix Visualization"
   ]
  },
  {
   "cell_type": "code",
   "execution_count": null,
   "id": "6539957d-8cb7-4503-90d7-836f4080d212",
   "metadata": {
    "id": "6539957d-8cb7-4503-90d7-836f4080d212",
    "outputId": "982a9b7d-d0af-418a-8981-0be94f1657c2"
   },
   "outputs": [],
   "source": [
    "plt.figure(figsize=(40,40))\n",
    "sns.heatmap(cm,annot=True,annot_kws={'size':10})\n",
    "plt.xlabel(\"Predicted Class\",fontsize=20)\n",
    "plt.ylabel(\"Actual Class\",fontsize=20)\n",
    "plt.title(\"Plant Disease Prediction Confusion Matrix\",fontsize=25)\n",
    "plt.show()"
   ]
  },
  {
   "cell_type": "code",
   "execution_count": null,
   "id": "0dce485e-5f6e-46fa-b082-afc5b48126b7",
   "metadata": {
    "id": "0dce485e-5f6e-46fa-b082-afc5b48126b7"
   },
   "outputs": [],
   "source": []
  },
  {
   "cell_type": "code",
   "execution_count": null,
   "id": "beeeb6e0-6671-4ae0-abef-86d5992072e8",
   "metadata": {
    "id": "beeeb6e0-6671-4ae0-abef-86d5992072e8"
   },
   "outputs": [],
   "source": []
  },
  {
   "cell_type": "code",
   "execution_count": null,
   "id": "a61294ee-2257-46c3-9708-93db01425dda",
   "metadata": {
    "id": "a61294ee-2257-46c3-9708-93db01425dda"
   },
   "outputs": [],
   "source": []
  },
  {
   "cell_type": "code",
   "execution_count": null,
   "id": "88eb63e3-debd-4aae-9436-6ed080de6265",
   "metadata": {
    "id": "88eb63e3-debd-4aae-9436-6ed080de6265"
   },
   "outputs": [],
   "source": []
  }
 ],
 "metadata": {
  "colab": {
   "provenance": []
  },
  "kernelspec": {
   "display_name": "Python (marutham_mozhi)",
   "language": "python",
   "name": "marutham_mozhi"
  },
  "language_info": {
   "codemirror_mode": {
    "name": "ipython",
    "version": 3
   },
   "file_extension": ".py",
   "mimetype": "text/x-python",
   "name": "python",
   "nbconvert_exporter": "python",
   "pygments_lexer": "ipython3",
   "version": "3.10.17"
  }
 },
 "nbformat": 4,
 "nbformat_minor": 5
}
